{
 "cells": [
  {
   "cell_type": "code",
   "execution_count": null,
   "id": "803a1de4",
   "metadata": {},
   "outputs": [],
   "source": [
    "mport requests\n",
    "import pandas as pd\n",
    "\n",
    "url = \"https://edamam-food-and-grocery-database.p.rapidapi.com/parser\"\n",
    "\n",
    "querystring = {\"ingr\":\"champagne\"}\n",
    "\n",
    "headers = {\n",
    "    \"X-RapidAPI-Key\": \"...\",\n",
    "    \"X-RapidAPI-Host\": \"edamam-food-and-grocery-database.p.rapidapi.com\"\n",
    "}\n",
    "\n",
    "# Appel à l'API\n",
    "response = requests.request(\"GET\", url, headers=headers, params=querystring)\n",
    "\n",
    "# Extraction des 10 premiers produits et créat\n",
    "products = response.json()[\"hints\"][:10]\n",
    "\n",
    "# Extract required data from each product\n",
    "data = []\n",
    "for product in products:\n",
    "    food = product['food']\n",
    "    data.append({\n",
    "        'foodId': food['foodId'],\n",
    "        'label': food['label'],\n",
    "        'category': food['category'],\n",
    "        'foodContentsLabel': food.get('foodContentsLabel', ''),\n",
    "        'image': food.get('image', '')\n",
    "    })\n",
    "# Create a pandas dataframe from the extracted data\n",
    "df = pd.DataFrame(data, columns=['foodId', 'label', 'category', 'foodContentsLabel', 'image'])\n",
    "\n",
    "# Save the dataframe to a CSV file\n",
    "df.to_csv('products.csv', index=False)\n",
    "\n",
    "\n",
    "# In[18]:\n",
    "\n",
    "data = pd.read_csv('products.csv')\n",
    "data.head()\n",
    "\n",
    "# In[19]:\n",
    "\n",
    "data.info()"
   ]
  }
 ],
 "metadata": {
  "kernelspec": {
   "display_name": "Python 3 (ipykernel)",
   "language": "python",
   "name": "python3"
  },
  "language_info": {
   "codemirror_mode": {
    "name": "ipython",
    "version": 3
   },
   "file_extension": ".py",
   "mimetype": "text/x-python",
   "name": "python",
   "nbconvert_exporter": "python",
   "pygments_lexer": "ipython3",
   "version": "3.10.9"
  }
 },
 "nbformat": 4,
 "nbformat_minor": 5
}
